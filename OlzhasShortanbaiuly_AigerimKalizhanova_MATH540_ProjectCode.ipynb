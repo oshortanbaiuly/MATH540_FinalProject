{
  "nbformat": 4,
  "nbformat_minor": 0,
  "metadata": {
    "colab": {
      "provenance": []
    },
    "kernelspec": {
      "name": "python3",
      "display_name": "Python 3"
    },
    "language_info": {
      "name": "python"
    }
  },
  "cells": [
    {
      "cell_type": "code",
      "execution_count": 1,
      "metadata": {
        "id": "g_TuBp6isHd-"
      },
      "outputs": [],
      "source": [
        "# Hard margin SVM with Linear Kernel (in 2D)\n",
        "import numpy as np\n",
        "import pandas as pd\n",
        "from sklearn.datasets import make_blobs\n",
        "from sklearn.model_selection import train_test_split\n",
        "import matplotlib.pyplot as plt\n",
        "from sklearn.svm import SVC\n",
        "\n",
        "def generate_data(m, c): # generating 2 Gaussian clusters with centers (-c,c),(c,c), cluster standard deviation 3*c/4 and total sample size m \n",
        "  center = [(-c,-c), (c,c)]\n",
        "  X, y = make_blobs(n_samples = m, centers = center, cluster_std = 3*c/4, n_features = 2)\n",
        "  for i in range(m): # generated y consisted of 0 and 1 values, change 0 to -1 to satisfy data distribution requirement\n",
        "    if y[i] == 0:\n",
        "      y[i] = -1\n",
        "  X_train, X_test, y_train, y_test = train_test_split(X, y, test_size = 0.33, random_state = 42)\n",
        "  return X_train, X_test, y_train, y_test\n",
        "\n",
        "m_vals = np.array([10, 50, 100, 500, 1000, 5000, 10000, 50000]) #sample mean values\n",
        "c_vals = np.array([2, 2.5, 3, 3.5, 4, 4.5, 5, 5.5, 6, 6.5, 7, 7.5, 8, 8.5, 9, 9.5, 10, 10.5, 11, 11.5, 12]) # c values for cluster means and standard\n",
        "#deviations\n",
        "\n",
        "value_matrix = np.zeros((8,21,5)) #value matrix of matrices for each sample size, containing a tuple of gamma, rho, train error and test error\n",
        "for i in range(8):\n",
        "  for j in range(21):\n",
        "    X_train, X_test, y_train, y_test = generate_data(m_vals[i], c_vals[j])\n",
        "\n",
        "    clf = SVC(kernel = 'linear')\n",
        "    clf = clf.fit(X_train, y_train) #fitting SVC model with Linear Kernel\n",
        "\n",
        "    value_matrix[i][j][0] = m_vals[i] #sample size\n",
        "    value_matrix[i][j][1] = round(1 / np.linalg.norm(clf.coef_), 2) #gamma\n",
        "    value_matrix[i][j][2] = max(np.sqrt(np.square(X_train).sum(axis=1))) #rho s.t. ||X||<=rho\n",
        "    value_matrix[i][j][3] = 1 - clf.score(X_train, y_train) # training error\n",
        "    value_matrix[i][j][4] = 1 - clf.score(X_test, y_test) # test error"
      ]
    },
    {
      "cell_type": "code",
      "source": [
        "#printing data\n",
        "value_matrix "
      ],
      "metadata": {
        "colab": {
          "base_uri": "https://localhost:8080/"
        },
        "id": "xuJZ9Z5JwFfi",
        "outputId": "80f3cf01-d754-4363-d26a-65cfee01e257"
      },
      "execution_count": 2,
      "outputs": [
        {
          "output_type": "execute_result",
          "data": {
            "text/plain": [
              "array([[[1.00000000e+01, 2.08000000e+00, 5.59784303e+00, 0.00000000e+00,\n",
              "         0.00000000e+00],\n",
              "        [1.00000000e+01, 2.08000000e+00, 6.55009102e+00, 0.00000000e+00,\n",
              "         2.50000000e-01],\n",
              "        [1.00000000e+01, 4.38000000e+00, 1.19678352e+01, 0.00000000e+00,\n",
              "         0.00000000e+00],\n",
              "        [1.00000000e+01, 2.47000000e+00, 5.21637965e+00, 0.00000000e+00,\n",
              "         2.50000000e-01],\n",
              "        [1.00000000e+01, 4.68000000e+00, 1.06657578e+01, 0.00000000e+00,\n",
              "         0.00000000e+00],\n",
              "        [1.00000000e+01, 4.35000000e+00, 1.47776386e+01, 0.00000000e+00,\n",
              "         0.00000000e+00],\n",
              "        [1.00000000e+01, 6.50000000e+00, 1.84283553e+01, 0.00000000e+00,\n",
              "         0.00000000e+00],\n",
              "        [1.00000000e+01, 4.17000000e+00, 1.36600257e+01, 0.00000000e+00,\n",
              "         0.00000000e+00],\n",
              "        [1.00000000e+01, 7.19000000e+00, 1.58747412e+01, 0.00000000e+00,\n",
              "         0.00000000e+00],\n",
              "        [1.00000000e+01, 7.10000000e+00, 1.85962031e+01, 0.00000000e+00,\n",
              "         5.00000000e-01],\n",
              "        [1.00000000e+01, 9.50000000e-01, 1.77001890e+01, 0.00000000e+00,\n",
              "         2.50000000e-01],\n",
              "        [1.00000000e+01, 1.11400000e+01, 2.04940077e+01, 0.00000000e+00,\n",
              "         0.00000000e+00],\n",
              "        [1.00000000e+01, 6.37000000e+00, 1.79142405e+01, 0.00000000e+00,\n",
              "         0.00000000e+00],\n",
              "        [1.00000000e+01, 2.98000000e+00, 2.49192219e+01, 0.00000000e+00,\n",
              "         5.00000000e-01],\n",
              "        [1.00000000e+01, 8.69000000e+00, 1.90421146e+01, 0.00000000e+00,\n",
              "         0.00000000e+00],\n",
              "        [1.00000000e+01, 7.58000000e+00, 2.32533833e+01, 0.00000000e+00,\n",
              "         0.00000000e+00],\n",
              "        [1.00000000e+01, 1.24100000e+01, 2.29493428e+01, 0.00000000e+00,\n",
              "         2.50000000e-01],\n",
              "        [1.00000000e+01, 1.98500000e+01, 2.61163244e+01, 0.00000000e+00,\n",
              "         2.50000000e-01],\n",
              "        [1.00000000e+01, 1.23000000e+01, 2.49554393e+01, 0.00000000e+00,\n",
              "         0.00000000e+00],\n",
              "        [1.00000000e+01, 3.03000000e+00, 2.86311347e+01, 0.00000000e+00,\n",
              "         0.00000000e+00],\n",
              "        [1.00000000e+01, 1.14200000e+01, 3.85445850e+01, 0.00000000e+00,\n",
              "         2.50000000e-01]],\n",
              "\n",
              "       [[5.00000000e+01, 1.02000000e+00, 6.63327988e+00, 9.09090909e-02,\n",
              "         5.88235294e-02],\n",
              "        [5.00000000e+01, 1.19000000e+00, 9.02428463e+00, 3.03030303e-02,\n",
              "         0.00000000e+00],\n",
              "        [5.00000000e+01, 1.19000000e+00, 1.14347644e+01, 6.06060606e-02,\n",
              "         5.88235294e-02],\n",
              "        [5.00000000e+01, 7.70000000e-01, 9.58191154e+00, 0.00000000e+00,\n",
              "         0.00000000e+00],\n",
              "        [5.00000000e+01, 1.96000000e+00, 1.28921260e+01, 0.00000000e+00,\n",
              "         0.00000000e+00],\n",
              "        [5.00000000e+01, 2.07000000e+00, 1.23912292e+01, 3.03030303e-02,\n",
              "         0.00000000e+00],\n",
              "        [5.00000000e+01, 2.32000000e+00, 1.44868070e+01, 3.03030303e-02,\n",
              "         5.88235294e-02],\n",
              "        [5.00000000e+01, 2.07000000e+00, 2.15107751e+01, 0.00000000e+00,\n",
              "         0.00000000e+00],\n",
              "        [5.00000000e+01, 2.67000000e+00, 1.72382423e+01, 0.00000000e+00,\n",
              "         5.88235294e-02],\n",
              "        [5.00000000e+01, 3.03000000e+00, 1.91475131e+01, 0.00000000e+00,\n",
              "         0.00000000e+00],\n",
              "        [5.00000000e+01, 3.77000000e+00, 2.20028677e+01, 0.00000000e+00,\n",
              "         1.17647059e-01],\n",
              "        [5.00000000e+01, 3.84000000e+00, 2.28717946e+01, 0.00000000e+00,\n",
              "         5.88235294e-02],\n",
              "        [5.00000000e+01, 4.50000000e+00, 2.18867120e+01, 3.03030303e-02,\n",
              "         5.88235294e-02],\n",
              "        [5.00000000e+01, 4.32000000e+00, 2.51450174e+01, 0.00000000e+00,\n",
              "         0.00000000e+00],\n",
              "        [5.00000000e+01, 3.91000000e+00, 2.63026111e+01, 0.00000000e+00,\n",
              "         5.88235294e-02],\n",
              "        [5.00000000e+01, 3.47000000e+00, 3.75005702e+01, 0.00000000e+00,\n",
              "         5.88235294e-02],\n",
              "        [5.00000000e+01, 1.14000000e+00, 3.33754754e+01, 0.00000000e+00,\n",
              "         0.00000000e+00],\n",
              "        [5.00000000e+01, 1.00000000e+00, 2.59036337e+01, 0.00000000e+00,\n",
              "         0.00000000e+00],\n",
              "        [5.00000000e+01, 4.53000000e+00, 3.17223329e+01, 0.00000000e+00,\n",
              "         0.00000000e+00],\n",
              "        [5.00000000e+01, 6.04000000e+00, 3.30612513e+01, 0.00000000e+00,\n",
              "         0.00000000e+00],\n",
              "        [5.00000000e+01, 3.64000000e+00, 4.04986130e+01, 3.03030303e-02,\n",
              "         5.88235294e-02]],\n",
              "\n",
              "       [[1.00000000e+02, 6.60000000e-01, 6.45606097e+00, 0.00000000e+00,\n",
              "         6.06060606e-02],\n",
              "        [1.00000000e+02, 5.90000000e-01, 9.41260198e+00, 0.00000000e+00,\n",
              "         6.06060606e-02],\n",
              "        [1.00000000e+02, 1.22000000e+00, 1.33809955e+01, 5.97014925e-02,\n",
              "         0.00000000e+00],\n",
              "        [1.00000000e+02, 8.20000000e-01, 1.18238353e+01, 0.00000000e+00,\n",
              "         1.21212121e-01],\n",
              "        [1.00000000e+02, 1.15000000e+00, 1.62184765e+01, 1.49253731e-02,\n",
              "         0.00000000e+00],\n",
              "        [1.00000000e+02, 1.06000000e+00, 1.64245360e+01, 1.49253731e-02,\n",
              "         0.00000000e+00],\n",
              "        [1.00000000e+02, 1.61000000e+00, 1.94418530e+01, 1.49253731e-02,\n",
              "         6.06060606e-02],\n",
              "        [1.00000000e+02, 1.74000000e+00, 1.67495822e+01, 4.47761194e-02,\n",
              "         3.03030303e-02],\n",
              "        [1.00000000e+02, 1.83000000e+00, 1.86921166e+01, 4.47761194e-02,\n",
              "         6.06060606e-02],\n",
              "        [1.00000000e+02, 1.08000000e+00, 2.04544858e+01, 1.49253731e-02,\n",
              "         3.03030303e-02],\n",
              "        [1.00000000e+02, 3.33000000e+00, 2.15580871e+01, 2.98507463e-02,\n",
              "         6.06060606e-02],\n",
              "        [1.00000000e+02, 1.87000000e+00, 2.32046303e+01, 1.49253731e-02,\n",
              "         0.00000000e+00],\n",
              "        [1.00000000e+02, 1.25000000e+00, 2.84522438e+01, 1.49253731e-02,\n",
              "         0.00000000e+00],\n",
              "        [1.00000000e+02, 3.58000000e+00, 2.89449504e+01, 5.97014925e-02,\n",
              "         3.03030303e-02],\n",
              "        [1.00000000e+02, 1.05000000e+00, 3.35411533e+01, 1.49253731e-02,\n",
              "         0.00000000e+00],\n",
              "        [1.00000000e+02, 3.41000000e+00, 3.21213567e+01, 2.98507463e-02,\n",
              "         0.00000000e+00],\n",
              "        [1.00000000e+02, 2.86000000e+00, 3.12611469e+01, 1.49253731e-02,\n",
              "         3.03030303e-02],\n",
              "        [1.00000000e+02, 1.93000000e+00, 2.88201393e+01, 1.49253731e-02,\n",
              "         0.00000000e+00],\n",
              "        [1.00000000e+02, 4.50000000e+00, 3.58999239e+01, 2.98507463e-02,\n",
              "         6.06060606e-02],\n",
              "        [1.00000000e+02, 1.62000000e+00, 3.80737885e+01, 1.49253731e-02,\n",
              "         6.06060606e-02],\n",
              "        [1.00000000e+02, 1.01000000e+00, 4.01405428e+01, 0.00000000e+00,\n",
              "         6.06060606e-02]],\n",
              "\n",
              "       [[5.00000000e+02, 7.40000000e-01, 7.69649237e+00, 3.28358209e-02,\n",
              "         4.24242424e-02],\n",
              "        [5.00000000e+02, 6.70000000e-01, 9.71270678e+00, 8.95522388e-03,\n",
              "         1.21212121e-02],\n",
              "        [5.00000000e+02, 1.05000000e+00, 1.10452705e+01, 3.88059701e-02,\n",
              "         3.63636364e-02],\n",
              "        [5.00000000e+02, 1.52000000e+00, 1.22222649e+01, 4.17910448e-02,\n",
              "         1.81818182e-02],\n",
              "        [5.00000000e+02, 1.43000000e+00, 1.42136735e+01, 2.98507463e-02,\n",
              "         4.84848485e-02],\n",
              "        [5.00000000e+02, 1.93000000e+00, 1.74855201e+01, 3.88059701e-02,\n",
              "         6.06060606e-03],\n",
              "        [5.00000000e+02, 1.33000000e+00, 1.97887077e+01, 2.38805970e-02,\n",
              "         3.03030303e-02],\n",
              "        [5.00000000e+02, 1.54000000e+00, 1.93431199e+01, 2.38805970e-02,\n",
              "         4.24242424e-02],\n",
              "        [5.00000000e+02, 2.24000000e+00, 2.30495225e+01, 3.88059701e-02,\n",
              "         1.81818182e-02],\n",
              "        [5.00000000e+02, 2.75000000e+00, 2.36604299e+01, 2.68656716e-02,\n",
              "         4.84848485e-02],\n",
              "        [5.00000000e+02, 1.85000000e+00, 2.89779008e+01, 3.28358209e-02,\n",
              "         6.06060606e-03],\n",
              "        [5.00000000e+02, 3.32000000e+00, 2.42145324e+01, 4.17910448e-02,\n",
              "         3.63636364e-02],\n",
              "        [5.00000000e+02, 2.90000000e+00, 2.82132632e+01, 2.38805970e-02,\n",
              "         3.03030303e-02],\n",
              "        [5.00000000e+02, 1.93000000e+00, 3.34401149e+01, 1.19402985e-02,\n",
              "         2.42424242e-02],\n",
              "        [5.00000000e+02, 3.66000000e+00, 3.37867860e+01, 3.88059701e-02,\n",
              "         1.21212121e-02],\n",
              "        [5.00000000e+02, 2.97000000e+00, 3.89925491e+01, 2.98507463e-02,\n",
              "         3.03030303e-02],\n",
              "        [5.00000000e+02, 3.32000000e+00, 3.63546862e+01, 2.68656716e-02,\n",
              "         3.03030303e-02],\n",
              "        [5.00000000e+02, 4.04000000e+00, 3.94797643e+01, 4.47761194e-02,\n",
              "         3.63636364e-02],\n",
              "        [5.00000000e+02, 4.75000000e+00, 4.06047202e+01, 2.38805970e-02,\n",
              "         4.24242424e-02],\n",
              "        [5.00000000e+02, 3.00000000e+00, 3.97744005e+01, 2.68656716e-02,\n",
              "         3.63636364e-02],\n",
              "        [5.00000000e+02, 4.60000000e+00, 4.35846466e+01, 3.28358209e-02,\n",
              "         1.81818182e-02]],\n",
              "\n",
              "       [[1.00000000e+03, 8.40000000e-01, 7.98484936e+00, 2.53731343e-02,\n",
              "         3.03030303e-02],\n",
              "        [1.00000000e+03, 7.90000000e-01, 9.12245668e+00, 3.13432836e-02,\n",
              "         1.21212121e-02],\n",
              "        [1.00000000e+03, 1.06000000e+00, 1.04126415e+01, 2.53731343e-02,\n",
              "         3.33333333e-02],\n",
              "        [1.00000000e+03, 1.18000000e+00, 1.35066499e+01, 2.68656716e-02,\n",
              "         3.33333333e-02],\n",
              "        [1.00000000e+03, 1.35000000e+00, 1.55153838e+01, 4.32835821e-02,\n",
              "         2.12121212e-02],\n",
              "        [1.00000000e+03, 1.12000000e+00, 1.67707515e+01, 2.38805970e-02,\n",
              "         3.93939394e-02],\n",
              "        [1.00000000e+03, 1.60000000e+00, 1.89254194e+01, 3.13432836e-02,\n",
              "         1.51515152e-02],\n",
              "        [1.00000000e+03, 2.35000000e+00, 2.17819771e+01, 3.13432836e-02,\n",
              "         4.84848485e-02],\n",
              "        [1.00000000e+03, 1.69000000e+00, 2.34976859e+01, 2.08955224e-02,\n",
              "         5.15151515e-02],\n",
              "        [1.00000000e+03, 2.68000000e+00, 2.81095082e+01, 3.73134328e-02,\n",
              "         3.33333333e-02],\n",
              "        [1.00000000e+03, 2.44000000e+00, 2.56295238e+01, 2.38805970e-02,\n",
              "         3.03030303e-02],\n",
              "        [1.00000000e+03, 2.73000000e+00, 2.79899457e+01, 2.98507463e-02,\n",
              "         3.33333333e-02],\n",
              "        [1.00000000e+03, 2.59000000e+00, 3.22966366e+01, 2.08955224e-02,\n",
              "         2.42424242e-02],\n",
              "        [1.00000000e+03, 3.10000000e+00, 3.17901037e+01, 3.43283582e-02,\n",
              "         3.93939394e-02],\n",
              "        [1.00000000e+03, 2.84000000e+00, 3.40996835e+01, 2.68656716e-02,\n",
              "         3.93939394e-02],\n",
              "        [1.00000000e+03, 2.98000000e+00, 3.80436659e+01, 2.38805970e-02,\n",
              "         1.81818182e-02],\n",
              "        [1.00000000e+03, 2.90000000e+00, 4.02853110e+01, 2.98507463e-02,\n",
              "         2.12121212e-02],\n",
              "        [1.00000000e+03, 2.99000000e+00, 4.16421902e+01, 2.83582090e-02,\n",
              "         1.81818182e-02],\n",
              "        [1.00000000e+03, 2.38000000e+00, 4.64999646e+01, 2.23880597e-02,\n",
              "         4.24242424e-02],\n",
              "        [1.00000000e+03, 4.31000000e+00, 4.39122308e+01, 3.43283582e-02,\n",
              "         2.12121212e-02],\n",
              "        [1.00000000e+03, 3.61000000e+00, 4.72181116e+01, 2.23880597e-02,\n",
              "         2.42424242e-02]],\n",
              "\n",
              "       [[5.00000000e+03, 6.20000000e-01, 8.42053794e+00, 2.71641791e-02,\n",
              "         2.42424242e-02],\n",
              "        [5.00000000e+03, 8.10000000e-01, 1.11432889e+01, 3.10447761e-02,\n",
              "         3.27272727e-02],\n",
              "        [5.00000000e+03, 1.05000000e+00, 1.21298015e+01, 2.47761194e-02,\n",
              "         4.12121212e-02],\n",
              "        [5.00000000e+03, 1.25000000e+00, 1.65211334e+01, 3.46268657e-02,\n",
              "         3.15151515e-02],\n",
              "        [5.00000000e+03, 1.42000000e+00, 1.66532509e+01, 2.98507463e-02,\n",
              "         2.06060606e-02],\n",
              "        [5.00000000e+03, 1.46000000e+00, 1.85424710e+01, 3.40298507e-02,\n",
              "         3.63636364e-02],\n",
              "        [5.00000000e+03, 1.75000000e+00, 2.35554591e+01, 3.04477612e-02,\n",
              "         2.96969697e-02],\n",
              "        [5.00000000e+03, 1.69000000e+00, 2.29144494e+01, 2.68656716e-02,\n",
              "         2.72727273e-02],\n",
              "        [5.00000000e+03, 2.22000000e+00, 2.64157769e+01, 3.01492537e-02,\n",
              "         2.72727273e-02],\n",
              "        [5.00000000e+03, 2.04000000e+00, 2.66296002e+01, 2.68656716e-02,\n",
              "         3.15151515e-02],\n",
              "        [5.00000000e+03, 2.11000000e+00, 2.83496786e+01, 2.59701493e-02,\n",
              "         3.03030303e-02],\n",
              "        [5.00000000e+03, 2.45000000e+00, 2.89259007e+01, 3.10447761e-02,\n",
              "         2.84848485e-02],\n",
              "        [5.00000000e+03, 2.67000000e+00, 3.38883422e+01, 2.74626866e-02,\n",
              "         2.54545455e-02],\n",
              "        [5.00000000e+03, 2.81000000e+00, 3.93267119e+01, 3.10447761e-02,\n",
              "         2.90909091e-02],\n",
              "        [5.00000000e+03, 3.27000000e+00, 4.13077846e+01, 2.98507463e-02,\n",
              "         3.15151515e-02],\n",
              "        [5.00000000e+03, 3.25000000e+00, 4.15766175e+01, 3.34328358e-02,\n",
              "         1.93939394e-02],\n",
              "        [5.00000000e+03, 3.08000000e+00, 3.84788776e+01, 3.13432836e-02,\n",
              "         3.45454545e-02],\n",
              "        [5.00000000e+03, 3.69000000e+00, 4.03007939e+01, 3.16417910e-02,\n",
              "         3.21212121e-02],\n",
              "        [5.00000000e+03, 3.67000000e+00, 4.50156118e+01, 3.31343284e-02,\n",
              "         2.42424242e-02],\n",
              "        [5.00000000e+03, 3.92000000e+00, 4.36531537e+01, 3.07462687e-02,\n",
              "         3.63636364e-02],\n",
              "        [5.00000000e+03, 4.01000000e+00, 5.02244382e+01, 2.80597015e-02,\n",
              "         3.09090909e-02]],\n",
              "\n",
              "       [[1.00000000e+04, 6.90000000e-01, 8.76667391e+00, 3.05970149e-02,\n",
              "         2.66666667e-02],\n",
              "        [1.00000000e+04, 8.60000000e-01, 1.07194581e+01, 3.10447761e-02,\n",
              "         3.06060606e-02],\n",
              "        [1.00000000e+04, 1.03000000e+00, 1.37167666e+01, 3.10447761e-02,\n",
              "         3.06060606e-02],\n",
              "        [1.00000000e+04, 1.19000000e+00, 1.45556648e+01, 3.10447761e-02,\n",
              "         3.60606061e-02],\n",
              "        [1.00000000e+04, 1.30000000e+00, 1.60164012e+01, 2.97014925e-02,\n",
              "         3.30303030e-02],\n",
              "        [1.00000000e+04, 1.63000000e+00, 1.81468494e+01, 2.61194030e-02,\n",
              "         2.93939394e-02],\n",
              "        [1.00000000e+04, 1.66000000e+00, 2.20441855e+01, 2.94029851e-02,\n",
              "         2.60606061e-02],\n",
              "        [1.00000000e+04, 1.83000000e+00, 2.31668995e+01, 3.04477612e-02,\n",
              "         3.15151515e-02],\n",
              "        [1.00000000e+04, 1.84000000e+00, 2.84133064e+01, 2.50746269e-02,\n",
              "         2.57575758e-02],\n",
              "        [1.00000000e+04, 2.24000000e+00, 3.13409586e+01, 3.32835821e-02,\n",
              "         2.84848485e-02],\n",
              "        [1.00000000e+04, 2.32000000e+00, 3.00550710e+01, 2.85074627e-02,\n",
              "         2.57575758e-02],\n",
              "        [1.00000000e+04, 2.46000000e+00, 3.44081615e+01, 2.77611940e-02,\n",
              "         3.12121212e-02],\n",
              "        [1.00000000e+04, 2.66000000e+00, 3.22574568e+01, 2.91044776e-02,\n",
              "         3.54545455e-02],\n",
              "        [1.00000000e+04, 2.87000000e+00, 3.39951205e+01, 2.92537313e-02,\n",
              "         2.96969697e-02],\n",
              "        [1.00000000e+04, 3.07000000e+00, 3.78037502e+01, 2.97014925e-02,\n",
              "         2.84848485e-02],\n",
              "        [1.00000000e+04, 3.00000000e+00, 3.98396871e+01, 2.98507463e-02,\n",
              "         2.60606061e-02],\n",
              "        [1.00000000e+04, 3.02000000e+00, 4.57863379e+01, 3.00000000e-02,\n",
              "         3.00000000e-02],\n",
              "        [1.00000000e+04, 3.56000000e+00, 4.82605464e+01, 2.80597015e-02,\n",
              "         3.21212121e-02],\n",
              "        [1.00000000e+04, 3.53000000e+00, 4.60165186e+01, 3.00000000e-02,\n",
              "         3.21212121e-02],\n",
              "        [1.00000000e+04, 3.90000000e+00, 4.90407777e+01, 2.77611940e-02,\n",
              "         2.66666667e-02],\n",
              "        [1.00000000e+04, 3.98000000e+00, 5.23163998e+01, 3.02985075e-02,\n",
              "         3.57575758e-02]],\n",
              "\n",
              "       [[5.00000000e+04, 6.90000000e-01, 9.06594424e+00, 3.02985075e-02,\n",
              "         3.03030303e-02],\n",
              "        [5.00000000e+04, 8.30000000e-01, 1.17805919e+01, 2.89253731e-02,\n",
              "         2.86666667e-02],\n",
              "        [5.00000000e+04, 1.00000000e+00, 1.34055599e+01, 2.93432836e-02,\n",
              "         2.86060606e-02],\n",
              "        [5.00000000e+04, 1.21000000e+00, 1.60590317e+01, 3.11940299e-02,\n",
              "         2.96363636e-02],\n",
              "        [5.00000000e+04, 1.34000000e+00, 1.95193352e+01, 2.95522388e-02,\n",
              "         2.78787879e-02],\n",
              "        [5.00000000e+04, 1.49000000e+00, 1.97308947e+01, 2.89552239e-02,\n",
              "         2.91515152e-02],\n",
              "        [5.00000000e+04, 1.66000000e+00, 2.20647875e+01, 2.93134328e-02,\n",
              "         2.96969697e-02],\n",
              "        [5.00000000e+04, 1.83000000e+00, 2.42214470e+01, 2.91940299e-02,\n",
              "         3.04242424e-02],\n",
              "        [5.00000000e+04, 2.01000000e+00, 2.73828037e+01, 2.89850746e-02,\n",
              "         3.00606061e-02],\n",
              "        [5.00000000e+04, 2.14000000e+00, 2.93232678e+01, 2.95522388e-02,\n",
              "         2.95757576e-02],\n",
              "        [5.00000000e+04, 2.26000000e+00, 3.38556306e+01, 2.72238806e-02,\n",
              "         2.84848485e-02],\n",
              "        [5.00000000e+04, 2.54000000e+00, 3.42855186e+01, 2.97910448e-02,\n",
              "         2.92121212e-02],\n",
              "        [5.00000000e+04, 2.69000000e+00, 3.55890530e+01, 2.97313433e-02,\n",
              "         3.18787879e-02],\n",
              "        [5.00000000e+04, 2.86000000e+00, 3.81925861e+01, 2.91940299e-02,\n",
              "         3.00000000e-02],\n",
              "        [5.00000000e+04, 2.98000000e+00, 4.16547228e+01, 2.93432836e-02,\n",
              "         3.06666667e-02],\n",
              "        [5.00000000e+04, 3.17000000e+00, 4.53568597e+01, 2.95820896e-02,\n",
              "         3.03030303e-02],\n",
              "        [5.00000000e+04, 3.49000000e+00, 4.24458752e+01, 3.02686567e-02,\n",
              "         2.94545455e-02],\n",
              "        [5.00000000e+04, 3.40000000e+00, 4.87135240e+01, 2.78805970e-02,\n",
              "         3.10303030e-02],\n",
              "        [5.00000000e+04, 3.79000000e+00, 5.06545931e+01, 2.89253731e-02,\n",
              "         3.13333333e-02],\n",
              "        [5.00000000e+04, 3.91000000e+00, 5.11868485e+01, 3.03582090e-02,\n",
              "         3.03636364e-02],\n",
              "        [5.00000000e+04, 4.03000000e+00, 5.49883771e+01, 2.90447761e-02,\n",
              "         2.89696970e-02]]])"
            ]
          },
          "metadata": {},
          "execution_count": 2
        }
      ]
    },
    {
      "cell_type": "code",
      "source": [
        "#taking example data for sample size of 1000 data points\n",
        "value_matrix[4]"
      ],
      "metadata": {
        "colab": {
          "base_uri": "https://localhost:8080/"
        },
        "id": "p9YJVLJ57_Ok",
        "outputId": "ecbe766a-e90c-47a1-d1f4-072156c06328"
      },
      "execution_count": 117,
      "outputs": [
        {
          "output_type": "execute_result",
          "data": {
            "text/plain": [
              "array([[1.00000000e+03, 8.40000000e-01, 7.98484936e+00, 2.53731343e-02,\n",
              "        3.03030303e-02],\n",
              "       [1.00000000e+03, 7.90000000e-01, 9.12245668e+00, 3.13432836e-02,\n",
              "        1.21212121e-02],\n",
              "       [1.00000000e+03, 1.06000000e+00, 1.04126415e+01, 2.53731343e-02,\n",
              "        3.33333333e-02],\n",
              "       [1.00000000e+03, 1.18000000e+00, 1.35066499e+01, 2.68656716e-02,\n",
              "        3.33333333e-02],\n",
              "       [1.00000000e+03, 1.35000000e+00, 1.55153838e+01, 4.32835821e-02,\n",
              "        2.12121212e-02],\n",
              "       [1.00000000e+03, 1.12000000e+00, 1.67707515e+01, 2.38805970e-02,\n",
              "        3.93939394e-02],\n",
              "       [1.00000000e+03, 1.60000000e+00, 1.89254194e+01, 3.13432836e-02,\n",
              "        1.51515152e-02],\n",
              "       [1.00000000e+03, 2.35000000e+00, 2.17819771e+01, 3.13432836e-02,\n",
              "        4.84848485e-02],\n",
              "       [1.00000000e+03, 1.69000000e+00, 2.34976859e+01, 2.08955224e-02,\n",
              "        5.15151515e-02],\n",
              "       [1.00000000e+03, 2.68000000e+00, 2.81095082e+01, 3.73134328e-02,\n",
              "        3.33333333e-02],\n",
              "       [1.00000000e+03, 2.44000000e+00, 2.56295238e+01, 2.38805970e-02,\n",
              "        3.03030303e-02],\n",
              "       [1.00000000e+03, 2.73000000e+00, 2.79899457e+01, 2.98507463e-02,\n",
              "        3.33333333e-02],\n",
              "       [1.00000000e+03, 2.59000000e+00, 3.22966366e+01, 2.08955224e-02,\n",
              "        2.42424242e-02],\n",
              "       [1.00000000e+03, 3.10000000e+00, 3.17901037e+01, 3.43283582e-02,\n",
              "        3.93939394e-02],\n",
              "       [1.00000000e+03, 2.84000000e+00, 3.40996835e+01, 2.68656716e-02,\n",
              "        3.93939394e-02],\n",
              "       [1.00000000e+03, 2.98000000e+00, 3.80436659e+01, 2.38805970e-02,\n",
              "        1.81818182e-02],\n",
              "       [1.00000000e+03, 2.90000000e+00, 4.02853110e+01, 2.98507463e-02,\n",
              "        2.12121212e-02],\n",
              "       [1.00000000e+03, 2.99000000e+00, 4.16421902e+01, 2.83582090e-02,\n",
              "        1.81818182e-02],\n",
              "       [1.00000000e+03, 2.38000000e+00, 4.64999646e+01, 2.23880597e-02,\n",
              "        4.24242424e-02],\n",
              "       [1.00000000e+03, 4.31000000e+00, 4.39122308e+01, 3.43283582e-02,\n",
              "        2.12121212e-02],\n",
              "       [1.00000000e+03, 3.61000000e+00, 4.72181116e+01, 2.23880597e-02,\n",
              "        2.42424242e-02]])"
            ]
          },
          "metadata": {},
          "execution_count": 117
        }
      ]
    },
    {
      "cell_type": "code",
      "source": [
        "# Graph showing bound (margin varied, sample size fixed)\n",
        "\n",
        "m_vals = np.array([10, 50, 100, 500, 1000, 5000, 10000, 50000])\n",
        "\n",
        "i = 7 #chosen m[i] = 50000\n",
        "m = np.sort(value_matrix[i][:], axis = 0)[:, 0]\n",
        "gamma = np.sort(value_matrix[i][:], axis = 0)[:, 1]\n",
        "rho = np.sort(value_matrix[i][:], axis = 0)[:, 2]\n",
        "train_error = np.sort(value_matrix[i][:], axis = 0)[:, 3]\n",
        "test_error = np.sort(value_matrix[i][:], axis = 0)[:, 4]\n",
        "delta = 0.2 #confidence level so that error bound bounds error values by 80% confidence\n",
        "bound = np.sqrt((4*(rho/gamma)**2)/m)+np.sqrt((2*np.log(2/delta))/m) #bound from Theorem\n",
        "\n",
        "f = plt.figure()\n",
        "f.set_figwidth(10)\n",
        "f.set_figheight(5)\n",
        "plt.title('Relationship between margin $\\gamma$ and error (with theoretical error bound)')\n",
        "plt.xlabel('margin, $\\gamma$')\n",
        "plt.ylabel('Error')\n",
        "plt.plot(gamma,train_error,label = 'Training Error')\n",
        "plt.plot(gamma,test_error, label = 'Test Error')\n",
        "plt.plot(gamma,bound, label = 'Error Bound')\n",
        "plt.legend()\n",
        "plt.show()"
      ],
      "metadata": {
        "colab": {
          "base_uri": "https://localhost:8080/",
          "height": 356
        },
        "id": "G2WTI2fT9zY0",
        "outputId": "319a72ef-f041-422c-da3a-c1b3b45f9ae8"
      },
      "execution_count": 250,
      "outputs": [
        {
          "output_type": "display_data",
          "data": {
            "text/plain": [
              "<Figure size 720x360 with 1 Axes>"
            ],
            "image/png": "[encoded data removed]"
          },
          "metadata": {
            "needs_background": "light"
          }
        }
      ]
    },
    {
      "cell_type": "code",
      "source": [
        "# Graph showing relationship error ~ gamma (margin varied, sample size fixed)\n",
        "\n",
        "f = plt.figure()\n",
        "f.set_figwidth(10)\n",
        "f.set_figheight(5)\n",
        "plt.title('Relationship between margin $\\gamma$ and error (without theoretical error bound)')\n",
        "plt.xlabel('margin, $\\gamma$')\n",
        "plt.ylabel('Error')\n",
        "plt.ylim((0.025, 0.035))\n",
        "plt.plot(gamma,train_error,label = 'Training Error')\n",
        "plt.plot(gamma,test_error, label = 'Test Error')\n",
        "plt.legend()\n",
        "plt.show()"
      ],
      "metadata": {
        "colab": {
          "base_uri": "https://localhost:8080/",
          "height": 356
        },
        "id": "QKd2AkCVPX3q",
        "outputId": "e129a089-96fd-4826-ee76-a03e0d7dec4b"
      },
      "execution_count": 251,
      "outputs": [
        {
          "output_type": "display_data",
          "data": {
            "text/plain": [
              "<Figure size 720x360 with 1 Axes>"
            ],
            "image/png": "[encoded data removed]"
          },
          "metadata": {
            "needs_background": "light"
          }
        }
      ]
    },
    {
      "cell_type": "code",
      "source": [
        "#printing gammas to look for gammas possible for each sample size value\n",
        "for i in range(8):\n",
        "  print(np.sort(value_matrix[i][:], axis = 0)[:, 1])"
      ],
      "metadata": {
        "colab": {
          "base_uri": "https://localhost:8080/"
        },
        "id": "TI4ZD3czwLRQ",
        "outputId": "447d5321-2a06-488b-8949-9663f5762b9b"
      },
      "execution_count": 178,
      "outputs": [
        {
          "output_type": "stream",
          "name": "stdout",
          "text": [
            "[ 0.95  2.08  2.08  2.47  2.98  3.03  4.17  4.35  4.38  4.68  6.37  6.5\n",
            "  7.1   7.19  7.58  8.69 11.14 11.42 12.3  12.41 19.85]\n",
            "[0.77 1.   1.02 1.14 1.19 1.19 1.96 2.07 2.07 2.32 2.67 3.03 3.47 3.64\n",
            " 3.77 3.84 3.91 4.32 4.5  4.53 6.04]\n",
            "[0.59 0.66 0.82 1.01 1.05 1.06 1.08 1.15 1.22 1.25 1.61 1.62 1.74 1.83\n",
            " 1.87 1.93 2.86 3.33 3.41 3.58 4.5 ]\n",
            "[0.67 0.74 1.05 1.33 1.43 1.52 1.54 1.85 1.93 1.93 2.24 2.75 2.9  2.97\n",
            " 3.   3.32 3.32 3.66 4.04 4.6  4.75]\n",
            "[0.79 0.84 1.06 1.12 1.18 1.35 1.6  1.69 2.35 2.38 2.44 2.59 2.68 2.73\n",
            " 2.84 2.9  2.98 2.99 3.1  3.61 4.31]\n",
            "[0.62 0.81 1.05 1.25 1.42 1.46 1.69 1.75 2.04 2.11 2.22 2.45 2.67 2.81\n",
            " 3.08 3.25 3.27 3.67 3.69 3.92 4.01]\n",
            "[0.69 0.86 1.03 1.19 1.3  1.63 1.66 1.83 1.84 2.24 2.32 2.46 2.66 2.87\n",
            " 3.   3.02 3.07 3.53 3.56 3.9  3.98]\n",
            "[0.69 0.83 1.   1.21 1.34 1.49 1.66 1.83 2.01 2.14 2.26 2.54 2.69 2.86\n",
            " 2.98 3.17 3.4  3.49 3.79 3.91 4.03]\n"
          ]
        }
      ]
    },
    {
      "cell_type": "code",
      "source": [
        "# Chose gammas closest to 3, so searching for indexes of entries in data matrix having gamma close to 3\n",
        "\n",
        "indexes = np.zeros(8)\n",
        "for i in range(8):\n",
        "  diff = 3\n",
        "  for j in range(21):\n",
        "    if abs(np.sort(value_matrix[i][:], axis = 0)[:, 1][j] - 3) < diff:\n",
        "      indexes[i] = int(j)\n",
        "      diff = abs(np.sort(value_matrix[i][:], axis = 0)[:, 1][j] - 3)\n",
        "\n",
        "indexes "
      ],
      "metadata": {
        "colab": {
          "base_uri": "https://localhost:8080/"
        },
        "id": "S2gbn4uvO1Re",
        "outputId": "38167cef-f90a-4813-e6e1-3bc210bdbe43"
      },
      "execution_count": 179,
      "outputs": [
        {
          "output_type": "execute_result",
          "data": {
            "text/plain": [
              "array([ 4., 11., 16., 14., 17., 14., 14., 14.])"
            ]
          },
          "metadata": {},
          "execution_count": 179
        }
      ]
    },
    {
      "cell_type": "code",
      "source": [
        "# Graph showing bound (sample size varied, gamma fixed)\n",
        "\n",
        "train_error_m = np.zeros(8)\n",
        "test_error_m = np.zeros(8)\n",
        "gamma_m = np.zeros(8)\n",
        "rho_m = np.zeros(8)\n",
        "\n",
        "m = m_vals\n",
        "for i in range(8):\n",
        "  train_error_m[i] = np.sort(value_matrix[i][:], axis = 0)[:, 3][int(indexes[i])]\n",
        "  test_error_m[i] = np.sort(value_matrix[i][:], axis = 0)[:, 4][int(indexes[i])]\n",
        "  gamma_m[i] = np.sort(value_matrix[i][:], axis = 0)[:, 1][int(indexes[i])]\n",
        "  rho_m[i] = np.sort(value_matrix[i][:], axis = 0)[:, 2][int(indexes[i])]\n",
        "\n",
        "delta = 0.02\n",
        "bound_m = np.sqrt((4*(rho_m/gamma_m)**2)/m)+np.sqrt((2*np.log(2/delta))/m) \n",
        "\n",
        "f = plt.figure()\n",
        "f.set_figwidth(10)\n",
        "f.set_figheight(5)\n",
        "plt.title('Relationship between sample size $m$ and error (with theoretical error bound)')\n",
        "plt.xlabel('sample size, $m$')\n",
        "plt.ylabel('Error')\n",
        "plt.ylim((0, 1)) # was 0 to 0.7\n",
        "plt.plot(m, train_error_m, label = 'Training Error')\n",
        "plt.plot(m, test_error_m, label = 'Test Error')\n",
        "plt.plot(m, bound_m, label = 'Error Bound')\n",
        "plt.legend()\n",
        "plt.show()"
      ],
      "metadata": {
        "colab": {
          "base_uri": "https://localhost:8080/",
          "height": 356
        },
        "id": "AtfZoP3VPHA1",
        "outputId": "85201e8e-7983-4e2c-eef1-de97e25dbc78"
      },
      "execution_count": 252,
      "outputs": [
        {
          "output_type": "display_data",
          "data": {
            "text/plain": [
              "<Figure size 720x360 with 1 Axes>"
            ],
            "image/png": "[encoded data removed]"
          },
          "metadata": {
            "needs_background": "light"
          }
        }
      ]
    },
    {
      "cell_type": "code",
      "source": [
        "# Graph showing relationship error ~ 1/m (sample size varied, gamma fixed)\n",
        "\n",
        "f = plt.figure()\n",
        "f.set_figwidth(10)\n",
        "f.set_figheight(5)\n",
        "plt.title('Relationship between sample size $m$ and error (without theoretical error bound)')\n",
        "plt.xlabel('sample size, $m$')\n",
        "plt.ylabel('Error')\n",
        "plt.ylim((0, 0.07))\n",
        "plt.plot(m, train_error_m, label = 'Training Error')\n",
        "plt.plot(m, test_error_m, label = 'Test Error')\n",
        "plt.legend()\n",
        "plt.show()"
      ],
      "metadata": {
        "colab": {
          "base_uri": "https://localhost:8080/",
          "height": 356
        },
        "id": "eBY2ht35PqcK",
        "outputId": "a613613d-0e97-43c6-9778-6215a779050b"
      },
      "execution_count": 254,
      "outputs": [
        {
          "output_type": "display_data",
          "data": {
            "text/plain": [
              "<Figure size 720x360 with 1 Axes>"
            ],
            "image/png": "[encoded data removed]"
          },
          "metadata": {
            "needs_background": "light"
          }
        }
      ]
    },
    {
      "cell_type": "markdown",
      "source": [
        "# **Real dataset**"
      ],
      "metadata": {
        "id": "hDV3aOUjR34m"
      }
    },
    {
      "cell_type": "code",
      "source": [
        "# importing dataset\n",
        "df = pd.read_csv('https://raw.githubusercontent.com/oshortanbaiuly/AigerimKalizhanova_OlzhasShortanbaiuly_MATH540_Project/main/winequality-red.csv')\n",
        "df.head()"
      ],
      "metadata": {
        "colab": {
          "base_uri": "https://localhost:8080/",
          "height": 250
        },
        "id": "hixPpb5AR6ok",
        "outputId": "d086d995-cf05-420b-b5b7-73ee08cebbe2"
      },
      "execution_count": 416,
      "outputs": [
        {
          "output_type": "execute_result",
          "data": {
            "text/plain": [
              "   fixed acidity  volatile acidity  citric acid  residual sugar  chlorides  \\\n",
              "0            7.4              0.70         0.00             1.9      0.076   \n",
              "1            7.8              0.88         0.00             2.6      0.098   \n",
              "2            7.8              0.76         0.04             2.3      0.092   \n",
              "3           11.2              0.28         0.56             1.9      0.075   \n",
              "4            7.4              0.70         0.00             1.9      0.076   \n",
              "\n",
              "   free sulfur dioxide  total sulfur dioxide  density    pH  sulphates  \\\n",
              "0                 11.0                  34.0   0.9978  3.51       0.56   \n",
              "1                 25.0                  67.0   0.9968  3.20       0.68   \n",
              "2                 15.0                  54.0   0.9970  3.26       0.65   \n",
              "3                 17.0                  60.0   0.9980  3.16       0.58   \n",
              "4                 11.0                  34.0   0.9978  3.51       0.56   \n",
              "\n",
              "   alcohol  quality  \n",
              "0      9.4        5  \n",
              "1      9.8        5  \n",
              "2      9.8        5  \n",
              "3      9.8        6  \n",
              "4      9.4        5  "
            ],
            "text/html": [
              "\n",
              "  <div id=\"df-d7cd9c25-701a-4f14-ab9c-5525998a4ec2\">\n",
              "    <div class=\"colab-df-container\">\n",
              "      <div>\n",
              "<style scoped>\n",
              "    .dataframe tbody tr th:only-of-type {\n",
              "        vertical-align: middle;\n",
              "    }\n",
              "\n",
              "    .dataframe tbody tr th {\n",
              "        vertical-align: top;\n",
              "    }\n",
              "\n",
              "    .dataframe thead th {\n",
              "        text-align: right;\n",
              "    }\n",
              "</style>\n",
              "<table border=\"1\" class=\"dataframe\">\n",
              "  <thead>\n",
              "    <tr style=\"text-align: right;\">\n",
              "      <th></th>\n",
              "      <th>fixed acidity</th>\n",
              "      <th>volatile acidity</th>\n",
              "      <th>citric acid</th>\n",
              "      <th>residual sugar</th>\n",
              "      <th>chlorides</th>\n",
              "      <th>free sulfur dioxide</th>\n",
              "      <th>total sulfur dioxide</th>\n",
              "      <th>density</th>\n",
              "      <th>pH</th>\n",
              "      <th>sulphates</th>\n",
              "      <th>alcohol</th>\n",
              "      <th>quality</th>\n",
              "    </tr>\n",
              "  </thead>\n",
              "  <tbody>\n",
              "    <tr>\n",
              "      <th>0</th>\n",
              "      <td>7.4</td>\n",
              "      <td>0.70</td>\n",
              "      <td>0.00</td>\n",
              "      <td>1.9</td>\n",
              "      <td>0.076</td>\n",
              "      <td>11.0</td>\n",
              "      <td>34.0</td>\n",
              "      <td>0.9978</td>\n",
              "      <td>3.51</td>\n",
              "      <td>0.56</td>\n",
              "      <td>9.4</td>\n",
              "      <td>5</td>\n",
              "    </tr>\n",
              "    <tr>\n",
              "      <th>1</th>\n",
              "      <td>7.8</td>\n",
              "      <td>0.88</td>\n",
              "      <td>0.00</td>\n",
              "      <td>2.6</td>\n",
              "      <td>0.098</td>\n",
              "      <td>25.0</td>\n",
              "      <td>67.0</td>\n",
              "      <td>0.9968</td>\n",
              "      <td>3.20</td>\n",
              "      <td>0.68</td>\n",
              "      <td>9.8</td>\n",
              "      <td>5</td>\n",
              "    </tr>\n",
              "    <tr>\n",
              "      <th>2</th>\n",
              "      <td>7.8</td>\n",
              "      <td>0.76</td>\n",
              "      <td>0.04</td>\n",
              "      <td>2.3</td>\n",
              "      <td>0.092</td>\n",
              "      <td>15.0</td>\n",
              "      <td>54.0</td>\n",
              "      <td>0.9970</td>\n",
              "      <td>3.26</td>\n",
              "      <td>0.65</td>\n",
              "      <td>9.8</td>\n",
              "      <td>5</td>\n",
              "    </tr>\n",
              "    <tr>\n",
              "      <th>3</th>\n",
              "      <td>11.2</td>\n",
              "      <td>0.28</td>\n",
              "      <td>0.56</td>\n",
              "      <td>1.9</td>\n",
              "      <td>0.075</td>\n",
              "      <td>17.0</td>\n",
              "      <td>60.0</td>\n",
              "      <td>0.9980</td>\n",
              "      <td>3.16</td>\n",
              "      <td>0.58</td>\n",
              "      <td>9.8</td>\n",
              "      <td>6</td>\n",
              "    </tr>\n",
              "    <tr>\n",
              "      <th>4</th>\n",
              "      <td>7.4</td>\n",
              "      <td>0.70</td>\n",
              "      <td>0.00</td>\n",
              "      <td>1.9</td>\n",
              "      <td>0.076</td>\n",
              "      <td>11.0</td>\n",
              "      <td>34.0</td>\n",
              "      <td>0.9978</td>\n",
              "      <td>3.51</td>\n",
              "      <td>0.56</td>\n",
              "      <td>9.4</td>\n",
              "      <td>5</td>\n",
              "    </tr>\n",
              "  </tbody>\n",
              "</table>\n",
              "</div>\n",
              "      <button class=\"colab-df-convert\" onclick=\"convertToInteractive('df-d7cd9c25-701a-4f14-ab9c-5525998a4ec2')\"\n",
              "              title=\"Convert this dataframe to an interactive table.\"\n",
              "              style=\"display:none;\">\n",
              "        \n",
              "  <svg xmlns=\"http://www.w3.org/2000/svg\" height=\"24px\"viewBox=\"0 0 24 24\"\n",
              "       width=\"24px\">\n",
              "    <path d=\"M0 0h24v24H0V0z\" fill=\"none\"/>\n",
              "    <path d=\"M18.56 5.44l.94 2.06.94-2.06 2.06-.94-2.06-.94-.94-2.06-.94 2.06-2.06.94zm-11 1L8.5 8.5l.94-2.06 2.06-.94-2.06-.94L8.5 2.5l-.94 2.06-2.06.94zm10 10l.94 2.06.94-2.06 2.06-.94-2.06-.94-.94-2.06-.94 2.06-2.06.94z\"/><path d=\"M17.41 7.96l-1.37-1.37c-.4-.4-.92-.59-1.43-.59-.52 0-1.04.2-1.43.59L10.3 9.45l-7.72 7.72c-.78.78-.78 2.05 0 2.83L4 21.41c.39.39.9.59 1.41.59.51 0 1.02-.2 1.41-.59l7.78-7.78 2.81-2.81c.8-.78.8-2.07 0-2.86zM5.41 20L4 18.59l7.72-7.72 1.47 1.35L5.41 20z\"/>\n",
              "  </svg>\n",
              "      </button>\n",
              "      \n",
              "  <style>\n",
              "    .colab-df-container {\n",
              "      display:flex;\n",
              "      flex-wrap:wrap;\n",
              "      gap: 12px;\n",
              "    }\n",
              "\n",
              "    .colab-df-convert {\n",
              "      background-color: #E8F0FE;\n",
              "      border: none;\n",
              "      border-radius: 50%;\n",
              "      cursor: pointer;\n",
              "      display: none;\n",
              "      fill: #1967D2;\n",
              "      height: 32px;\n",
              "      padding: 0 0 0 0;\n",
              "      width: 32px;\n",
              "    }\n",
              "\n",
              "    .colab-df-convert:hover {\n",
              "      background-color: #E2EBFA;\n",
              "      box-shadow: 0px 1px 2px rgba(60, 64, 67, 0.3), 0px 1px 3px 1px rgba(60, 64, 67, 0.15);\n",
              "      fill: #174EA6;\n",
              "    }\n",
              "\n",
              "    [theme=dark] .colab-df-convert {\n",
              "      background-color: #3B4455;\n",
              "      fill: #D2E3FC;\n",
              "    }\n",
              "\n",
              "    [theme=dark] .colab-df-convert:hover {\n",
              "      background-color: #434B5C;\n",
              "      box-shadow: 0px 1px 3px 1px rgba(0, 0, 0, 0.15);\n",
              "      filter: drop-shadow(0px 1px 2px rgba(0, 0, 0, 0.3));\n",
              "      fill: #FFFFFF;\n",
              "    }\n",
              "  </style>\n",
              "\n",
              "      <script>\n",
              "        const buttonEl =\n",
              "          document.querySelector('#df-d7cd9c25-701a-4f14-ab9c-5525998a4ec2 button.colab-df-convert');\n",
              "        buttonEl.style.display =\n",
              "          google.colab.kernel.accessAllowed ? 'block' : 'none';\n",
              "\n",
              "        async function convertToInteractive(key) {\n",
              "          const element = document.querySelector('#df-d7cd9c25-701a-4f14-ab9c-5525998a4ec2');\n",
              "          const dataTable =\n",
              "            await google.colab.kernel.invokeFunction('convertToInteractive',\n",
              "                                                     [key], {});\n",
              "          if (!dataTable) return;\n",
              "\n",
              "          const docLinkHtml = 'Like what you see? Visit the ' +\n",
              "            '<a target=\"_blank\" href=https://colab.research.google.com/notebooks/data_table.ipynb>data table notebook</a>'\n",
              "            + ' to learn more about interactive tables.';\n",
              "          element.innerHTML = '';\n",
              "          dataTable['output_type'] = 'display_data';\n",
              "          await google.colab.output.renderOutput(dataTable, element);\n",
              "          const docLink = document.createElement('div');\n",
              "          docLink.innerHTML = docLinkHtml;\n",
              "          element.appendChild(docLink);\n",
              "        }\n",
              "      </script>\n",
              "    </div>\n",
              "  </div>\n",
              "  "
            ]
          },
          "metadata": {},
          "execution_count": 416
        }
      ]
    },
    {
      "cell_type": "code",
      "source": [
        "df.shape"
      ],
      "metadata": {
        "colab": {
          "base_uri": "https://localhost:8080/"
        },
        "id": "i8SD1-EAoywK",
        "outputId": "b856b221-c906-43bc-855c-0092da49d993"
      },
      "execution_count": 417,
      "outputs": [
        {
          "output_type": "execute_result",
          "data": {
            "text/plain": [
              "(1599, 12)"
            ]
          },
          "metadata": {},
          "execution_count": 417
        }
      ]
    },
    {
      "cell_type": "code",
      "source": [
        "df.columns"
      ],
      "metadata": {
        "colab": {
          "base_uri": "https://localhost:8080/"
        },
        "id": "xIAq5mT3soje",
        "outputId": "fbeb7dc9-38cc-4d0d-ab73-18a7930e7182"
      },
      "execution_count": 470,
      "outputs": [
        {
          "output_type": "execute_result",
          "data": {
            "text/plain": [
              "Index(['fixed acidity', 'volatile acidity', 'citric acid', 'residual sugar',\n",
              "       'chlorides', 'free sulfur dioxide', 'total sulfur dioxide', 'density',\n",
              "       'pH', 'sulphates', 'alcohol', 'quality'],\n",
              "      dtype='object')"
            ]
          },
          "metadata": {},
          "execution_count": 470
        }
      ]
    },
    {
      "cell_type": "code",
      "source": [
        "#Creating y with values in {+1, -1}\n",
        "df['Class'] = np.zeros(227,)\n",
        "for i in range(227):\n",
        "  if df['Literacy (%)'][i] >= 90:\n",
        "    df['Class'][i] = 1\n",
        "  else:\n",
        "    df['Class'][i] = -1\n",
        "\n",
        "df[\"Class\"].unique()"
      ],
      "metadata": {
        "colab": {
          "base_uri": "https://localhost:8080/"
        },
        "id": "hUPfS0jpnhRT",
        "outputId": "880cc366-12e5-4794-dcf0-8bd658f5f279"
      },
      "execution_count": 378,
      "outputs": [
        {
          "output_type": "stream",
          "name": "stderr",
          "text": [
            "<ipython-input-378-2623736f22e0>:6: SettingWithCopyWarning: \n",
            "A value is trying to be set on a copy of a slice from a DataFrame\n",
            "\n",
            "See the caveats in the documentation: https://pandas.pydata.org/pandas-docs/stable/user_guide/indexing.html#returning-a-view-versus-a-copy\n",
            "  df['Class'][i] = -1\n",
            "<ipython-input-378-2623736f22e0>:4: SettingWithCopyWarning: \n",
            "A value is trying to be set on a copy of a slice from a DataFrame\n",
            "\n",
            "See the caveats in the documentation: https://pandas.pydata.org/pandas-docs/stable/user_guide/indexing.html#returning-a-view-versus-a-copy\n",
            "  df['Class'][i] = 1\n"
          ]
        },
        {
          "output_type": "execute_result",
          "data": {
            "text/plain": [
              "array([-1.,  1.])"
            ]
          },
          "metadata": {},
          "execution_count": 378
        }
      ]
    },
    {
      "cell_type": "code",
      "source": [
        "# generating data samples with different sample sizes and margins (varying margins is obtained through changing random states for randomly \n",
        "# generated samples\n",
        "\n",
        "def generate_data_from_real(m, rs):\n",
        "  df_gen = np.random.random_sample(df, m)\n",
        "  X = np.array(df[['fixed acidity', 'total sulfur dioxide']])\n",
        "  y = np.array(df[[\"Class\"]]).reshape((227,))\n",
        "\n",
        "  X_train, X_test, y_train, y_test = train_test_split(X, y, test_size = 0.33, random_state = rs)\n",
        "  return X_train, X_test, y_train, y_test\n",
        "\n",
        "\n",
        "m_vals_r = np.array([10, 50, 100, 500, 1000, 1599]) # sample sizes\n",
        "rs_vals = np.arange(1, 22, 1) # random states\n",
        "\n",
        "value_matrix_r = np.zeros((6,21,5))\n",
        "for i in range(6):\n",
        "  for j in range(21):\n",
        "    X_train, X_test, y_train, y_test = generate_data(m_vals_r[i], rs_vals[j])\n",
        "\n",
        "    clf_r = SVC(kernel = 'linear')\n",
        "    clf_r = clf_r.fit(X_train, y_train)\n",
        "\n",
        "    value_matrix_r[i][j][0] = m_vals[i] #sample size\n",
        "    value_matrix_r[i][j][1] = round(1 / np.linalg.norm(clf_r.coef_), 2) #margin gamma\n",
        "    value_matrix_r[i][j][2] = max(np.sqrt(np.square(X_train).sum(axis=1))) #rho with ||X||<=1\n",
        "    value_matrix_r[i][j][3] = 1 - clf_r.score(X_train, y_train) # training error\n",
        "    value_matrix_r[i][j][4] = 1 - clf_r.score(X_test, y_test) # test error"
      ],
      "metadata": {
        "id": "A9OrkRaDm0h_"
      },
      "execution_count": 445,
      "outputs": []
    },
    {
      "cell_type": "code",
      "source": [
        "# Graph showing bound (sample size fixed, margin varied)\n",
        "\n",
        "import matplotlib.pyplot as plt\n",
        "\n",
        "i = 5 #chosen m[i] = 1599\n",
        "m_r = np.sort(value_matrix_r[i][:], axis = 0)[:, 0]\n",
        "gamma_r = np.sort(value_matrix_r[i][:], axis = 0)[:, 1]\n",
        "rho_r = np.sort(value_matrix_r[i][:], axis = 0)[:, 2]\n",
        "train_error_r = np.sort(value_matrix_r[i][:], axis = 0)[:, 3]\n",
        "test_error_r = np.sort(value_matrix_r[i][:], axis = 0)[:, 4]\n",
        "delta = 0.2 #confidence level so that error bound bounds error values by 80% confidence\n",
        "bound_r = np.sqrt((4*(rho_r/gamma_r)**2)/m_r)+np.sqrt((2*np.log(2/delta))/m_r) #Error bound\n",
        "\n",
        "f = plt.figure()\n",
        "f.set_figwidth(10)\n",
        "f.set_figheight(5)\n",
        "plt.title('Relationship between margin $\\gamma$ and error (with theoretical error bound)')\n",
        "plt.xlabel('margin, $\\gamma$')\n",
        "plt.ylabel('Error')\n",
        "plt.plot(gamma_r,train_error_r, label = 'Training Error')\n",
        "plt.plot(gamma_r,test_error_r, label = 'Test Error')\n",
        "plt.plot(gamma_r,bound_r, label = 'Error Bound')\n",
        "plt.legend()\n",
        "plt.show()"
      ],
      "metadata": {
        "colab": {
          "base_uri": "https://localhost:8080/",
          "height": 356
        },
        "id": "Bt9njZPHwMjx",
        "outputId": "6f06d7d0-6422-41a8-cc08-77c7b6c4fcca"
      },
      "execution_count": 464,
      "outputs": [
        {
          "output_type": "display_data",
          "data": {
            "text/plain": [
              "<Figure size 720x360 with 1 Axes>"
            ],
            "image/png": "[encoded data removed]"
          },
          "metadata": {
            "needs_background": "light"
          }
        }
      ]
    },
    {
      "cell_type": "code",
      "source": [
        "# Graph showing relationship error ~ gamma (sample size fixed, margin varied)\n",
        "\n",
        "f = plt.figure()\n",
        "f.set_figwidth(10)\n",
        "f.set_figheight(5)\n",
        "plt.title('Relationship between margin $\\gamma$ and error (without theoretical error bound)')\n",
        "plt.xlabel('margin, $\\gamma$')\n",
        "plt.ylabel('Error')\n",
        "plt.ylim((0.01, 0.045))\n",
        "plt.plot(gamma_r,train_error_r, label = 'Training Error')\n",
        "plt.plot(gamma_r,test_error_r, label = 'Test Error')\n",
        "plt.legend()\n",
        "plt.show()"
      ],
      "metadata": {
        "colab": {
          "base_uri": "https://localhost:8080/",
          "height": 356
        },
        "id": "uC31etFUwsyC",
        "outputId": "59ae4db9-776a-44fb-98b3-279a75cc15e4"
      },
      "execution_count": 465,
      "outputs": [
        {
          "output_type": "display_data",
          "data": {
            "text/plain": [
              "<Figure size 720x360 with 1 Axes>"
            ],
            "image/png": "[encoded data removed]"
          },
          "metadata": {
            "needs_background": "light"
          }
        }
      ]
    },
    {
      "cell_type": "code",
      "source": [
        "#printing gammas to look for gammas possible for each sample size value\n",
        "for i in range(5):\n",
        "  print(np.sort(value_matrix_r[i][:], axis = 0)[:, 1])"
      ],
      "metadata": {
        "colab": {
          "base_uri": "https://localhost:8080/"
        },
        "id": "JuKFJLCWweDo",
        "outputId": "b1ac9b9a-99c2-42a8-ad17-146a0e2e248a"
      },
      "execution_count": 466,
      "outputs": [
        {
          "output_type": "stream",
          "name": "stdout",
          "text": [
            "[ 0.91  1.06  1.29  2.04  2.42  3.25  4.48  4.55  6.49  7.96  9.2   9.4\n",
            " 13.21 13.34 13.84 14.98 18.66 18.74 24.5  30.48 32.26]\n",
            "[0.71 0.85 0.95 1.06 1.07 1.36 1.67 1.71 1.73 1.75 1.75 2.03 2.54 2.63\n",
            " 3.54 4.01 4.87 5.04 5.28 6.16 8.47]\n",
            "[0.48 0.8  0.85 0.89 0.95 1.11 1.49 1.54 1.93 1.94 1.99 2.13 2.54 2.73\n",
            " 2.76 3.06 4.28 4.54 5.1  5.83 8.11]\n",
            "[0.38 0.71 0.75 1.53 1.91 2.13 2.56 2.6  2.72 2.73 3.42 3.49 3.76 4.35\n",
            " 4.53 5.91 5.98 6.46 6.61 6.69 8.57]\n",
            "[0.42 0.74 0.95 1.27 1.8  2.   2.45 2.49 2.76 3.23 3.32 3.37 4.74 4.87\n",
            " 5.14 5.34 5.4  6.   6.68 6.69 7.4 ]\n"
          ]
        }
      ]
    },
    {
      "cell_type": "code",
      "source": [
        "# Chose gammas closest to 5\n",
        "\n",
        "indexes_r = np.zeros(6)\n",
        "for i in range(6):\n",
        "  diff_r = 5\n",
        "  for j in range(21):\n",
        "    if abs(np.sort(value_matrix_r[i][:], axis = 0)[:, 1][j] - 5) < diff_r:\n",
        "      indexes_r[i] = int(j)\n",
        "      diff_r = abs(np.sort(value_matrix_r[i][:], axis = 0)[:, 1][j] - 5)\n",
        "\n",
        "indexes_r"
      ],
      "metadata": {
        "colab": {
          "base_uri": "https://localhost:8080/"
        },
        "id": "fgS9Er-RxA_o",
        "outputId": "83c2ffff-897e-4cfd-9b51-8ee74b635a20"
      },
      "execution_count": 467,
      "outputs": [
        {
          "output_type": "execute_result",
          "data": {
            "text/plain": [
              "array([ 7., 17., 18., 14., 13., 15.])"
            ]
          },
          "metadata": {},
          "execution_count": 467
        }
      ]
    },
    {
      "cell_type": "code",
      "source": [
        "# Graph showing bound (gamma fixed, sample size varied)\n",
        "\n",
        "train_error_m_r = np.zeros(6)\n",
        "test_error_m_r = np.zeros(6)\n",
        "gamma_m_r = np.zeros(6)\n",
        "rho_m_r = np.zeros(6)\n",
        "\n",
        "m_r = np.array([10, 50, 100, 500, 1000, 1599])\n",
        "for i in range(6):\n",
        "  train_error_m_r[i] = np.sort(value_matrix_r[i][:], axis = 0)[:, 3][int(indexes_r[i])]\n",
        "  test_error_m_r[i] = np.sort(value_matrix_r[i][:], axis = 0)[:, 4][int(indexes_r[i])]\n",
        "  gamma_m_r[i] = np.sort(value_matrix_r[i][:], axis = 0)[:, 1][int(indexes_r[i])]\n",
        "  rho_m_r[i] = np.sort(value_matrix_r[i][:], axis = 0)[:, 2][int(indexes_r[i])]\n",
        "\n",
        "delta = 0.02\n",
        "bound_m_r = np.sqrt((4*(rho_m_r/gamma_m_r)**2)/m_r)+np.sqrt((2*np.log(2/delta))/m_r) \n",
        "\n",
        "f = plt.figure()\n",
        "f.set_figwidth(10)\n",
        "f.set_figheight(5)\n",
        "plt.title('Relationship between sample size $m$ and error (with theoretical error bound)')\n",
        "plt.xlabel('sample size, $m$')\n",
        "plt.ylabel('Error')\n",
        "plt.ylim((0, 3))\n",
        "plt.plot(m_r,train_error_m_r, label = 'Training Error')\n",
        "plt.plot(m_r,test_error_m_r, label = 'Test Error')\n",
        "plt.plot(m_r,bound_m_r, label = 'Error Bound')\n",
        "plt.legend()\n",
        "plt.show()"
      ],
      "metadata": {
        "colab": {
          "base_uri": "https://localhost:8080/",
          "height": 356
        },
        "id": "93Wf2h6Mx7ry",
        "outputId": "29febd99-4847-4fab-c36e-1c9138a6d9e4"
      },
      "execution_count": 468,
      "outputs": [
        {
          "output_type": "display_data",
          "data": {
            "text/plain": [
              "<Figure size 720x360 with 1 Axes>"
            ],
            "image/png": "[encoded data removed]"
          },
          "metadata": {
            "needs_background": "light"
          }
        }
      ]
    },
    {
      "cell_type": "code",
      "source": [
        "# Graph showing relationship error ~ gamma (gamma fixed, sample size varied)\n",
        "\n",
        "f = plt.figure()\n",
        "f.set_figwidth(10)\n",
        "f.set_figheight(5)\n",
        "plt.title('Relationship between sample size $m$ and error (without theoretical error bound)')\n",
        "plt.xlabel('sample size, $m$')\n",
        "plt.ylabel('Error')\n",
        "plt.ylim((0, 0.07))\n",
        "plt.plot(m_r,train_error_m_r, label = 'Training Error')\n",
        "plt.plot(m_r,test_error_m_r, label = 'Test Error')\n",
        "plt.legend()\n",
        "plt.show()"
      ],
      "metadata": {
        "colab": {
          "base_uri": "https://localhost:8080/",
          "height": 356
        },
        "id": "0h-a46cs0sQE",
        "outputId": "7e8611ff-9ed5-456a-c1c4-46567a722ba5"
      },
      "execution_count": 469,
      "outputs": [
        {
          "output_type": "display_data",
          "data": {
            "text/plain": [
              "<Figure size 720x360 with 1 Axes>"
            ],
            "image/png": "[encoded data removed]"
          },
          "metadata": {
            "needs_background": "light"
          }
        }
      ]
    }
  ]
}